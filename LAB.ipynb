{
 "cells": [
  {
   "cell_type": "markdown",
   "metadata": {
    "editable": true,
    "slideshow": {
     "slide_type": ""
    },
    "tags": []
   },
   "source": [
    "# AI Agents for Network Engineering"
   ]
  },
  {
   "cell_type": "markdown",
   "metadata": {},
   "source": [
    "This (Jupyter Notebook) is an interactive coding environment that lets you write and run Python code in a web-based interface. Simply click on the play button or [SHIFT]+[ENTER] to execute the cell."
   ]
  },
  {
   "cell_type": "code",
   "execution_count": 2,
   "metadata": {
    "vscode": {
     "languageId": "javascript"
    }
   },
   "outputs": [
    {
     "name": "stdout",
     "output_type": "stream",
     "text": [
      "hello\n"
     ]
    }
   ],
   "source": [
    "print(\"hello\")"
   ]
  },
  {
   "cell_type": "markdown",
   "metadata": {},
   "source": [
    "## 1. Connectivity"
   ]
  },
  {
   "cell_type": "markdown",
   "metadata": {},
   "source": [
    "### Catalyst Router (IOS XE)"
   ]
  },
  {
   "cell_type": "markdown",
   "metadata": {},
   "source": [
    "In this lab we use the Catalyst 9000V IOS XE sandbox. Alternatively, you can also use the always-on sandbox.\n",
    "\n",
    "1. Connect with your VPN client to the sandbox environment.\n",
    "2. Open a terminal on the device and try to run a show-command to see if it works.\n",
    "3. During the lab the credentials are stored in the **hosts.json** file to simulate external credentials retrieval.\n",
    "\n",
    "\n",
    "**Hosts.json file content:**"
   ]
  },
  {
   "cell_type": "code",
   "execution_count": null,
   "metadata": {
    "vscode": {
     "languageId": "javascript"
    }
   },
   "outputs": [],
   "source": [
    "{\n",
    "    \"devnetsandboxiosxec9k.cisco.com\" : {\n",
    "            \"type\" : \"cisco catalyst ios xe\",\n",
    "            \"username\" : \"flpachin\",\n",
    "            \"password\" : \"79QViiuKN5y_s3_1\"\n",
    "        },\n",
    "    \"10.100.80.2\" : {\n",
    "            \"type\" : \"cisco catalyst ios xe\",\n",
    "            \"username\" : \"admin\",\n",
    "            \"password\" : \"Cisco123!\"\n",
    "        }\n",
    "}"
   ]
  },
  {
   "cell_type": "markdown",
   "metadata": {},
   "source": [
    "### Local Large Language Model (Ollama)"
   ]
  },
  {
   "cell_type": "markdown",
   "metadata": {},
   "source": [
    "Let's see how the local large language model is working and the duration time of the prompt execution."
   ]
  },
  {
   "cell_type": "code",
   "execution_count": 3,
   "metadata": {
    "vscode": {
     "languageId": "javascript"
    }
   },
   "outputs": [
    {
     "name": "stdout",
     "output_type": "stream",
     "text": [
      "To show all routes on a Cisco switch, you can use the `show ip route` command.\n",
      "\n",
      "Here's how:\n",
      "\n",
      "1. Connect to the Cisco switch using your preferred method (e.g., SSH, console cable).\n",
      "2. Log in to the switch with your credentials.\n",
      "3. Enter privileged EXEC mode by typing `enable`.\n",
      "4. Enter global configuration mode by typing `configure terminal`.\n",
      "5. Type `show ip route`.\n",
      "\n",
      "This will display all routes on the switch, including both connected and static routes.\n",
      "\n",
      "If you want to see just the routing table without any additional information, you can use the following syntax:\n",
      "\n",
      "`show ip route | begin Gateway`\n",
      "\n",
      "Or, if you're using a newer Cisco IOS version (15.2 or later), you can try:\n",
      "\n",
      "`show ip route all`\n",
      "\n",
      "Both of these commands will give you the same output as `show ip route`, but without any additional information.\n",
      "\n",
      "Hope that helps!\n"
     ]
    }
   ],
   "source": [
    "from ollama import chat\n",
    "from ollama import ChatResponse\n",
    "\n",
    "# LLM input = system prompt + user prompt\n",
    "response: ChatResponse = chat(model = 'llama3.1', messages = [\n",
    "    {\n",
    "        'role': 'system',\n",
    "        'content': 'You are a helpful networking assistant.',\n",
    "    },\n",
    "    {\n",
    "        'role': 'user',\n",
    "        'content': 'How can I show all routes on a Cisco switch?',\n",
    "    }\n",
    "])\n",
    "\n",
    "# output\n",
    "print(response['message']['content'])"
   ]
  },
  {
   "cell_type": "markdown",
   "metadata": {},
   "source": [
    "## 2. Create Your First AI Agent with `smolagents`"
   ]
  },
  {
   "cell_type": "markdown",
   "metadata": {},
   "source": [
    "Let's start writing our first AI agent in this framework and learn more about its components."
   ]
  },
  {
   "cell_type": "code",
   "execution_count": 5,
   "metadata": {
    "vscode": {
     "languageId": "javascript"
    }
   },
   "outputs": [
    {
     "data": {
      "text/html": [
       "<pre style=\"white-space:pre;overflow-x:auto;line-height:normal;font-family:Menlo,'DejaVu Sans Mono',consolas,'Courier New',monospace\"><span style=\"color: #d4b702; text-decoration-color: #d4b702\">╭──────────────────────────────────────────────────── </span><span style=\"color: #d4b702; text-decoration-color: #d4b702; font-weight: bold\">New run</span><span style=\"color: #d4b702; text-decoration-color: #d4b702\"> ────────────────────────────────────────────────────╮</span>\n",
       "<span style=\"color: #d4b702; text-decoration-color: #d4b702\">│</span>                                                                                                                 <span style=\"color: #d4b702; text-decoration-color: #d4b702\">│</span>\n",
       "<span style=\"color: #d4b702; text-decoration-color: #d4b702\">│</span> <span style=\"font-weight: bold\">What does sh ip route do?</span>                                                                                       <span style=\"color: #d4b702; text-decoration-color: #d4b702\">│</span>\n",
       "<span style=\"color: #d4b702; text-decoration-color: #d4b702\">│</span>                                                                                                                 <span style=\"color: #d4b702; text-decoration-color: #d4b702\">│</span>\n",
       "<span style=\"color: #d4b702; text-decoration-color: #d4b702\">╰─ LiteLLMModel - ollama/qwen2.5 ─────────────────────────────────────────────────────────────────────────────────╯</span>\n",
       "</pre>\n"
      ],
      "text/plain": [
       "\u001b[38;2;212;183;2m╭─\u001b[0m\u001b[38;2;212;183;2m───────────────────────────────────────────────────\u001b[0m\u001b[38;2;212;183;2m \u001b[0m\u001b[1;38;2;212;183;2mNew run\u001b[0m\u001b[38;2;212;183;2m \u001b[0m\u001b[38;2;212;183;2m───────────────────────────────────────────────────\u001b[0m\u001b[38;2;212;183;2m─╮\u001b[0m\n",
       "\u001b[38;2;212;183;2m│\u001b[0m                                                                                                                 \u001b[38;2;212;183;2m│\u001b[0m\n",
       "\u001b[38;2;212;183;2m│\u001b[0m \u001b[1mWhat does sh ip route do?\u001b[0m                                                                                       \u001b[38;2;212;183;2m│\u001b[0m\n",
       "\u001b[38;2;212;183;2m│\u001b[0m                                                                                                                 \u001b[38;2;212;183;2m│\u001b[0m\n",
       "\u001b[38;2;212;183;2m╰─\u001b[0m\u001b[38;2;212;183;2m LiteLLMModel - ollama/qwen2.5 \u001b[0m\u001b[38;2;212;183;2m────────────────────────────────────────────────────────────────────────────────\u001b[0m\u001b[38;2;212;183;2m─╯\u001b[0m\n"
      ]
     },
     "metadata": {},
     "output_type": "display_data"
    },
    {
     "data": {
      "text/html": [
       "<pre style=\"white-space:pre;overflow-x:auto;line-height:normal;font-family:Menlo,'DejaVu Sans Mono',consolas,'Courier New',monospace\"><span style=\"color: #d4b702; text-decoration-color: #d4b702\">━━━━━━━━━━━━━━━━━━━━━━━━━━━━━━━━━━━━━━━━━━━━━━━━━━━━━ </span><span style=\"font-weight: bold\">Step </span><span style=\"color: #008080; text-decoration-color: #008080; font-weight: bold\">1</span><span style=\"color: #d4b702; text-decoration-color: #d4b702\"> ━━━━━━━━━━━━━━━━━━━━━━━━━━━━━━━━━━━━━━━━━━━━━━━━━━━━━━</span>\n",
       "</pre>\n"
      ],
      "text/plain": [
       "\u001b[38;2;212;183;2m━━━━━━━━━━━━━━━━━━━━━━━━━━━━━━━━━━━━━━━━━━━━━━━━━━━━━ \u001b[0m\u001b[1mStep \u001b[0m\u001b[1;36m1\u001b[0m\u001b[38;2;212;183;2m ━━━━━━━━━━━━━━━━━━━━━━━━━━━━━━━━━━━━━━━━━━━━━━━━━━━━━━\u001b[0m\n"
      ]
     },
     "metadata": {},
     "output_type": "display_data"
    },
    {
     "data": {
      "text/html": [
       "<pre style=\"white-space:pre;overflow-x:auto;line-height:normal;font-family:Menlo,'DejaVu Sans Mono',consolas,'Courier New',monospace\"> ─ <span style=\"font-weight: bold\">Executing parsed code:</span> ──────────────────────────────────────────────────────────────────────────────────────── \n",
       "  <span style=\"color: #f8f8f2; text-decoration-color: #f8f8f2; background-color: #272822\">print(</span><span style=\"color: #e6db74; text-decoration-color: #e6db74; background-color: #272822\">\"The 'sh ip route' command is used to display the IP routing table on Cisco devices such as routers and </span><span style=\"background-color: #272822\"> </span>  \n",
       "  <span style=\"color: #e6db74; text-decoration-color: #e6db74; background-color: #272822\">switches. This command helps administrators understand how the device forwards traffic for different </span><span style=\"background-color: #272822\">          </span>  \n",
       "  <span style=\"color: #e6db74; text-decoration-color: #e6db74; background-color: #272822\">networks.\"</span><span style=\"color: #f8f8f2; text-decoration-color: #f8f8f2; background-color: #272822\">)</span><span style=\"background-color: #272822\">                                                                                                    </span>  \n",
       " ───────────────────────────────────────────────────────────────────────────────────────────────────────────────── \n",
       "</pre>\n"
      ],
      "text/plain": [
       " ─ \u001b[1mExecuting parsed code:\u001b[0m ──────────────────────────────────────────────────────────────────────────────────────── \n",
       "  \u001b[38;2;248;248;242;48;2;39;40;34mprint\u001b[0m\u001b[38;2;248;248;242;48;2;39;40;34m(\u001b[0m\u001b[38;2;230;219;116;48;2;39;40;34m\"\u001b[0m\u001b[38;2;230;219;116;48;2;39;40;34mThe \u001b[0m\u001b[38;2;230;219;116;48;2;39;40;34m'\u001b[0m\u001b[38;2;230;219;116;48;2;39;40;34msh ip route\u001b[0m\u001b[38;2;230;219;116;48;2;39;40;34m'\u001b[0m\u001b[38;2;230;219;116;48;2;39;40;34m command is used to display the IP routing table on Cisco devices such as routers and \u001b[0m\u001b[48;2;39;40;34m \u001b[0m  \n",
       "  \u001b[38;2;230;219;116;48;2;39;40;34mswitches. This command helps administrators understand how the device forwards traffic for different \u001b[0m\u001b[48;2;39;40;34m          \u001b[0m  \n",
       "  \u001b[38;2;230;219;116;48;2;39;40;34mnetworks.\u001b[0m\u001b[38;2;230;219;116;48;2;39;40;34m\"\u001b[0m\u001b[38;2;248;248;242;48;2;39;40;34m)\u001b[0m\u001b[48;2;39;40;34m                                                                                                    \u001b[0m  \n",
       " ───────────────────────────────────────────────────────────────────────────────────────────────────────────────── \n"
      ]
     },
     "metadata": {},
     "output_type": "display_data"
    },
    {
     "data": {
      "text/html": [
       "<pre style=\"white-space:pre;overflow-x:auto;line-height:normal;font-family:Menlo,'DejaVu Sans Mono',consolas,'Courier New',monospace\"><span style=\"font-weight: bold\">Execution logs:</span>\n",
       "The 'sh ip route' command is used to display the IP routing table on Cisco devices such as routers and switches. \n",
       "This command helps administrators understand how the device forwards traffic for different networks.\n",
       "\n",
       "Out: None\n",
       "</pre>\n"
      ],
      "text/plain": [
       "\u001b[1mExecution logs:\u001b[0m\n",
       "The 'sh ip route' command is used to display the IP routing table on Cisco devices such as routers and switches. \n",
       "This command helps administrators understand how the device forwards traffic for different networks.\n",
       "\n",
       "Out: None\n"
      ]
     },
     "metadata": {},
     "output_type": "display_data"
    },
    {
     "data": {
      "text/html": [
       "<pre style=\"white-space:pre;overflow-x:auto;line-height:normal;font-family:Menlo,'DejaVu Sans Mono',consolas,'Courier New',monospace\"><span style=\"color: #7f7f7f; text-decoration-color: #7f7f7f\">[Step 1: Duration 17.78 seconds| Input tokens: 2,015 | Output tokens: 120]</span>\n",
       "</pre>\n"
      ],
      "text/plain": [
       "\u001b[2m[Step 1: Duration 17.78 seconds| Input tokens: 2,015 | Output tokens: 120]\u001b[0m\n"
      ]
     },
     "metadata": {},
     "output_type": "display_data"
    },
    {
     "data": {
      "text/html": [
       "<pre style=\"white-space:pre;overflow-x:auto;line-height:normal;font-family:Menlo,'DejaVu Sans Mono',consolas,'Courier New',monospace\"><span style=\"color: #d4b702; text-decoration-color: #d4b702\">━━━━━━━━━━━━━━━━━━━━━━━━━━━━━━━━━━━━━━━━━━━━━━━━━━━━━ </span><span style=\"font-weight: bold\">Step </span><span style=\"color: #008080; text-decoration-color: #008080; font-weight: bold\">2</span><span style=\"color: #d4b702; text-decoration-color: #d4b702\"> ━━━━━━━━━━━━━━━━━━━━━━━━━━━━━━━━━━━━━━━━━━━━━━━━━━━━━━</span>\n",
       "</pre>\n"
      ],
      "text/plain": [
       "\u001b[38;2;212;183;2m━━━━━━━━━━━━━━━━━━━━━━━━━━━━━━━━━━━━━━━━━━━━━━━━━━━━━ \u001b[0m\u001b[1mStep \u001b[0m\u001b[1;36m2\u001b[0m\u001b[38;2;212;183;2m ━━━━━━━━━━━━━━━━━━━━━━━━━━━━━━━━━━━━━━━━━━━━━━━━━━━━━━\u001b[0m\n"
      ]
     },
     "metadata": {},
     "output_type": "display_data"
    },
    {
     "data": {
      "text/html": [
       "<pre style=\"white-space:pre;overflow-x:auto;line-height:normal;font-family:Menlo,'DejaVu Sans Mono',consolas,'Courier New',monospace\"> ─ <span style=\"font-weight: bold\">Executing parsed code:</span> ──────────────────────────────────────────────────────────────────────────────────────── \n",
       "  <span style=\"color: #f8f8f2; text-decoration-color: #f8f8f2; background-color: #272822\">final_answer(</span><span style=\"color: #e6db74; text-decoration-color: #e6db74; background-color: #272822\">\"The 'sh ip route' command is used to display the IP routing table on Cisco devices such as </span><span style=\"background-color: #272822\">      </span>  \n",
       "  <span style=\"color: #e6db74; text-decoration-color: #e6db74; background-color: #272822\">routers and switches. This command helps administrators understand how the device forwards traffic for </span><span style=\"background-color: #272822\">        </span>  \n",
       "  <span style=\"color: #e6db74; text-decoration-color: #e6db74; background-color: #272822\">different networks.\"</span><span style=\"color: #f8f8f2; text-decoration-color: #f8f8f2; background-color: #272822\">)</span><span style=\"background-color: #272822\">                                                                                          </span>  \n",
       " ───────────────────────────────────────────────────────────────────────────────────────────────────────────────── \n",
       "</pre>\n"
      ],
      "text/plain": [
       " ─ \u001b[1mExecuting parsed code:\u001b[0m ──────────────────────────────────────────────────────────────────────────────────────── \n",
       "  \u001b[38;2;248;248;242;48;2;39;40;34mfinal_answer\u001b[0m\u001b[38;2;248;248;242;48;2;39;40;34m(\u001b[0m\u001b[38;2;230;219;116;48;2;39;40;34m\"\u001b[0m\u001b[38;2;230;219;116;48;2;39;40;34mThe \u001b[0m\u001b[38;2;230;219;116;48;2;39;40;34m'\u001b[0m\u001b[38;2;230;219;116;48;2;39;40;34msh ip route\u001b[0m\u001b[38;2;230;219;116;48;2;39;40;34m'\u001b[0m\u001b[38;2;230;219;116;48;2;39;40;34m command is used to display the IP routing table on Cisco devices such as \u001b[0m\u001b[48;2;39;40;34m      \u001b[0m  \n",
       "  \u001b[38;2;230;219;116;48;2;39;40;34mrouters and switches. This command helps administrators understand how the device forwards traffic for \u001b[0m\u001b[48;2;39;40;34m        \u001b[0m  \n",
       "  \u001b[38;2;230;219;116;48;2;39;40;34mdifferent networks.\u001b[0m\u001b[38;2;230;219;116;48;2;39;40;34m\"\u001b[0m\u001b[38;2;248;248;242;48;2;39;40;34m)\u001b[0m\u001b[48;2;39;40;34m                                                                                          \u001b[0m  \n",
       " ───────────────────────────────────────────────────────────────────────────────────────────────────────────────── \n"
      ]
     },
     "metadata": {},
     "output_type": "display_data"
    },
    {
     "data": {
      "text/html": [
       "<pre style=\"white-space:pre;overflow-x:auto;line-height:normal;font-family:Menlo,'DejaVu Sans Mono',consolas,'Courier New',monospace\"><span style=\"color: #d4b702; text-decoration-color: #d4b702; font-weight: bold\">Out - Final answer: The 'sh ip route' command is used to display the IP routing table on Cisco devices such as </span>\n",
       "<span style=\"color: #d4b702; text-decoration-color: #d4b702; font-weight: bold\">routers and switches. This command helps administrators understand how the device forwards traffic for different </span>\n",
       "<span style=\"color: #d4b702; text-decoration-color: #d4b702; font-weight: bold\">networks.</span>\n",
       "</pre>\n"
      ],
      "text/plain": [
       "\u001b[1;38;2;212;183;2mOut - Final answer: The 'sh ip route' command is used to display the IP routing table on Cisco devices such as \u001b[0m\n",
       "\u001b[1;38;2;212;183;2mrouters and switches. This command helps administrators understand how the device forwards traffic for different \u001b[0m\n",
       "\u001b[1;38;2;212;183;2mnetworks.\u001b[0m\n"
      ]
     },
     "metadata": {},
     "output_type": "display_data"
    },
    {
     "data": {
      "text/html": [
       "<pre style=\"white-space:pre;overflow-x:auto;line-height:normal;font-family:Menlo,'DejaVu Sans Mono',consolas,'Courier New',monospace\"><span style=\"color: #7f7f7f; text-decoration-color: #7f7f7f\">[Step 2: Duration 7.34 seconds| Input tokens: 4,283 | Output tokens: 252]</span>\n",
       "</pre>\n"
      ],
      "text/plain": [
       "\u001b[2m[Step 2: Duration 7.34 seconds| Input tokens: 4,283 | Output tokens: 252]\u001b[0m\n"
      ]
     },
     "metadata": {},
     "output_type": "display_data"
    },
    {
     "data": {
      "text/plain": [
       "\"The 'sh ip route' command is used to display the IP routing table on Cisco devices such as routers and switches. This command helps administrators understand how the device forwards traffic for different networks.\""
      ]
     },
     "execution_count": 5,
     "metadata": {},
     "output_type": "execute_result"
    }
   ],
   "source": [
    "from smolagents.agents import CodeAgent\n",
    "from smolagents import LiteLLMModel\n",
    "\n",
    "model = LiteLLMModel(model_id=\"ollama/qwen2.5\",\n",
    "                     num_ctx=8192\n",
    "                )\n",
    "\n",
    "device_agent = CodeAgent(\n",
    "                tools=[],\n",
    "                model=model\n",
    ")\n",
    "\n",
    "device_agent.run(\"What does sh ip route do?\")"
   ]
  },
  {
   "cell_type": "markdown",
   "metadata": {},
   "source": [
    "## 3. Important Building Blocks for AI Agents"
   ]
  },
  {
   "cell_type": "markdown",
   "metadata": {},
   "source": [
    "In order to understand AI agents, it is important to know these building blocks of AI agentic frameworks:\n",
    "\n",
    "* Understanding the Agentic Behavior using OpenTelemetry\n",
    "* Function/Tool Calling\n",
    "* Structured Output"
   ]
  },
  {
   "cell_type": "markdown",
   "metadata": {},
   "source": [
    "### 3.1 Using OpenTelemetry for Understanding & Debugging"
   ]
  },
  {
   "cell_type": "markdown",
   "metadata": {},
   "source": [
    "Start the OpenTelemetry server, access it at [http://0.0.0.0:6006/projects/](http://0.0.0.0:6006/projects/) and run this code below. The next time you are executing a smolagent, you will see data."
   ]
  },
  {
   "cell_type": "code",
   "execution_count": null,
   "metadata": {
    "vscode": {
     "languageId": "javascript"
    }
   },
   "outputs": [],
   "source": [
    "# ================== TELEMETRY ==================\n",
    "from opentelemetry.sdk.trace import TracerProvider\n",
    "from openinference.instrumentation.smolagents import SmolagentsInstrumentor\n",
    "from opentelemetry.exporter.otlp.proto.http.trace_exporter import OTLPSpanExporter\n",
    "from opentelemetry.sdk.trace.export import SimpleSpanProcessor\n",
    "endpoint = \"http://0.0.0.0:6006/v1/traces\"\n",
    "trace_provider = TracerProvider()\n",
    "trace_provider.add_span_processor(SimpleSpanProcessor(OTLPSpanExporter(endpoint)))\n",
    "SmolagentsInstrumentor().instrument(tracer_provider=trace_provider)"
   ]
  },
  {
   "cell_type": "markdown",
   "metadata": {},
   "source": [
    "### 3.2. Function/Tool Calling with LLMs"
   ]
  },
  {
   "cell_type": "markdown",
   "metadata": {},
   "source": [
    "Let's extend our code and define these custom functions. Execute the following code which does not provide any output."
   ]
  },
  {
   "cell_type": "code",
   "execution_count": null,
   "metadata": {
    "vscode": {
     "languageId": "javascript"
    }
   },
   "outputs": [],
   "source": [
    "from smolagents import tool\n",
    "\n",
    "@tool\n",
    "def get_username_password_for_device(ip_address:str) -> str:\n",
    "    \"\"\"\n",
    "    Returns the username and password separated by a comma for the given ip address or hostname.\n",
    "\n",
    "    Args:\n",
    "        ip_address: The IP address or hostname of the device\n",
    "\n",
    "    Returns:\n",
    "        str: A string with the username and password separated by a comma.\n",
    "    \"\"\"\n",
    "    import json\n",
    "    \n",
    "    with open(\"hosts.json\", 'r') as file:\n",
    "        devices = json.load(file)\n",
    "        return f\"{devices[ip_address]['username']},{devices[ip_address]['password']}\"\n",
    "\n",
    "@tool\n",
    "def show_ip_route(host:str,username:str,password:str,device_type:str = \"cisco_ios\",) -> str:\n",
    "    \"\"\"\n",
    "    Return the routing table of the device. Executes the command 'show ip route'.\n",
    "\n",
    "    Args:\n",
    "        host: The IP address or hostname of the device\n",
    "        username: The username for the device\n",
    "        password: The password for the device\n",
    "        device_type: The device type for the device\n",
    "\n",
    "    Returns:\n",
    "        str: The routing table of the device.\n",
    "    \"\"\"\n",
    "    from netmiko import ConnectHandler    \n",
    "                                                                                                          \n",
    "    device = {                                                                                                                                                                 \n",
    "        'ip': host,                                                                                                                                                   \n",
    "        'username': username,                                                                                                                                                  \n",
    "        'password': password,                                                                                                                                                  \n",
    "        'device_type': device_type                                                                                        \n",
    "    }                                                                                                                                                                          \n",
    "                                                                                                                                                                                \n",
    "    # Establish connection to the device                                                                                                                                       \n",
    "    connection = ConnectHandler(**device)                                                                                                                                                                                                                                                                                     \n",
    "                                                                                                                                                                                \n",
    "    # Execute command to retrieve running configuration                                                                                                                        \n",
    "    running_config_output = connection.send_command('show ip route')                                                                                                     \n",
    "                                                                                                                                                                                \n",
    "    return running_config_output"
   ]
  },
  {
   "cell_type": "markdown",
   "metadata": {},
   "source": [
    "Now, let's add these functions to the CodeAgent and authorize to import these Python libraries in the sandboxed Python environment of the agent. Let's run this example with the following prompt."
   ]
  },
  {
   "cell_type": "code",
   "execution_count": null,
   "metadata": {
    "vscode": {
     "languageId": "javascript"
    }
   },
   "outputs": [],
   "source": [
    "from smolagents.agents import CodeAgent\n",
    "from smolagents import LiteLLMModel\n",
    "\n",
    "model = LiteLLMModel(model_id=\"ollama/qwen2.5\",\n",
    "                     num_ctx=8192)\n",
    "\n",
    "device_agent = CodeAgent(tools=[get_username_password_for_device,\n",
    "                         show_ip_route],\n",
    "                  model=model,\n",
    "                  additional_authorized_imports=['ncclient', 'netmiko','requests','paramiko','io'],\n",
    "                 )\n",
    "# give the sandboxed Python interpreter access to read/write files outside (use with caution!)\n",
    "device_agent.python_executor.static_tools[\"open\"] = open\n",
    "\n",
    "# Routing Table Summary as Markdown\n",
    "device_agent.run(\"\"\"\n",
    "                 Summarize the routing table on the Cisco device 10.10.20.48.\n",
    "                 Save it in the Markdown file 'routing_table_summary.md'.\n",
    "                 You will at first need the username and password for the device.\n",
    "                 \"\"\")"
   ]
  },
  {
   "cell_type": "markdown",
   "metadata": {},
   "source": [
    "**Expected results**: After execution, the LLM intelligently calls `get_username_password_for_device` first and then `show_running_configuration` based on your prompt. You should see the summary of the routing table in the newly created file `routing_table_summary.md` which should be located in our project folder."
   ]
  },
  {
   "cell_type": "markdown",
   "metadata": {},
   "source": [
    "### 3.3 Structured Output with LLMs"
   ]
  },
  {
   "cell_type": "markdown",
   "metadata": {},
   "source": [
    "Let's understand structured outputs with the following code. At first, we define just one function which returns a show command on the device. Execute this cell, there should be no output."
   ]
  },
  {
   "cell_type": "code",
   "execution_count": null,
   "metadata": {
    "vscode": {
     "languageId": "javascript"
    }
   },
   "outputs": [],
   "source": [
    "def run_ios_show_command_on_device_trusted(show_command:str,host:str) -> str:\n",
    "    \"\"\"\n",
    "    Returns the output of the provided show command from the device with the given host, username, password, and device type.\n",
    "\n",
    "    Args:\n",
    "        show_command: The show command to run on the device\n",
    "        host: The IP address or hostname of the device\n",
    "        device_type: The device type for the device\n",
    "\n",
    "    Returns:\n",
    "        str: Output of the provided show command\n",
    "    \"\"\"\n",
    "    print(\"Running show command on device...\")\n",
    "\n",
    "    from netmiko import ConnectHandler\n",
    "    import json\n",
    "\n",
    "    with open(\"hosts.json\", 'r') as file:\n",
    "        devices = json.load(file)\n",
    "        username = devices[host][\"username\"]\n",
    "        password = devices[host][\"password\"]\n",
    "                                                          \n",
    "    device = {                                                                                                                                                                 \n",
    "        'ip': host,                                                                                                                                                   \n",
    "        'username': username,                                                                                                                                                  \n",
    "        'password': password,                                                                                                                                                  \n",
    "        'device_type': \"cisco_ios\",                                                                                        \n",
    "    }                                                                                                                                                                          \n",
    "                                                                                                                                                                                \n",
    "    # Establish connection to the device                                                                                                                                       \n",
    "    connection = ConnectHandler(**device)\n",
    "\n",
    "    if show_command.startswith(\"show\") or show_command.startswith(\"sh\"):\n",
    "        # Execute command to retrieve running configuration                                                                                                                        \n",
    "        running_config_output = connection.send_command(show_command)\n",
    "        print(running_config_output)\n",
    "        return running_config_output\n",
    "    else:\n",
    "        return \"Error! You are only allowed to run show commands. Try again and use a show command.\""
   ]
  },
  {
   "cell_type": "markdown",
   "metadata": {},
   "source": [
    "Then, let's define the output schema at first, the parameters for our prompt:"
   ]
  },
  {
   "cell_type": "code",
   "execution_count": null,
   "metadata": {
    "vscode": {
     "languageId": "javascript"
    }
   },
   "outputs": [],
   "source": [
    "from pydantic import BaseModel\n",
    "\n",
    "# here we define the model for the response\n",
    "class Cat8000(BaseModel):\n",
    "    ios_version: str\n",
    "    configuration_register: str\n",
    "\n",
    "# define your parameters\n",
    "ios_show_command = \"show version\"\n",
    "device_host = \"10.10.20.48\" # or \"devnetsandboxiosxe.cisco.com\""
   ]
  },
  {
   "cell_type": "markdown",
   "metadata": {},
   "source": [
    "Then let's define our prompts: system + user prompt and tell the LLM how to structure the output and run the query:"
   ]
  },
  {
   "cell_type": "code",
   "execution_count": null,
   "metadata": {},
   "outputs": [],
   "source": [
    "from ollama import chat\n",
    "\n",
    "response = chat(\n",
    "    messages=[\n",
    "        {\n",
    "        'role': 'system',\n",
    "        'content': 'You are a helpful networking assistant.',\n",
    "    },\n",
    "    {\n",
    "        'role': 'user',\n",
    "        'content': f'''What can you say about my Cisco switch?\n",
    "                    Here is the output of the \"show version\" command:\n",
    "                    {run_ios_show_command_on_device_trusted(ios_show_command,device_host)}''',\n",
    "    }\n",
    "    ],\n",
    "    model='llama3.1',\n",
    "    format=Cat8000.model_json_schema(),\n",
    ")\n",
    "\n",
    "cat8000_instance = Cat8000.model_validate_json(response.message.content)"
   ]
  },
  {
   "cell_type": "markdown",
   "metadata": {},
   "source": [
    "Finally, we can access each of our defined data points:"
   ]
  },
  {
   "cell_type": "code",
   "execution_count": null,
   "metadata": {},
   "outputs": [],
   "source": [
    "print(\"LLM response output according to your schema:\")\n",
    "print(f\"IOS Version: {cat8000_instance.ios_version}\")\n",
    "print(f\"Config Register: {cat8000_instance.configuration_register}\")"
   ]
  },
  {
   "cell_type": "markdown",
   "metadata": {},
   "source": [
    "You will see that the LLM is extracting information from the `show version` command according to your define schema."
   ]
  },
  {
   "cell_type": "markdown",
   "metadata": {},
   "source": [
    "# Next steps"
   ]
  },
  {
   "cell_type": "markdown",
   "metadata": {},
   "source": [
    "Check out the use-cases which are stored in the folder **complete examples**! Run them and go through the code to understand the concept and how you can apply them to your environment and use-cases."
   ]
  }
 ],
 "metadata": {
  "kernelspec": {
   "display_name": "Python 3 (ipykernel)",
   "language": "python",
   "name": "python3"
  },
  "language_info": {
   "codemirror_mode": {
    "name": "ipython",
    "version": 3
   },
   "file_extension": ".py",
   "mimetype": "text/x-python",
   "name": "python",
   "nbconvert_exporter": "python",
   "pygments_lexer": "ipython3",
   "version": "3.12.8"
  }
 },
 "nbformat": 4,
 "nbformat_minor": 4
}
