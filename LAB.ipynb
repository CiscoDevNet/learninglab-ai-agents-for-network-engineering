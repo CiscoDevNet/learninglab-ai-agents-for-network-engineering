{
 "cells": [
  {
   "cell_type": "markdown",
   "metadata": {
    "editable": true,
    "slideshow": {
     "slide_type": ""
    },
    "tags": []
   },
   "source": [
    "# AI Agents for Network Engineering"
   ]
  },
  {
   "cell_type": "markdown",
   "metadata": {},
   "source": [
    "This (Jupyter Notebook) is an interactive coding environment that lets you write and run Python code in a web-based interface. Simply click on the play button or [SHIFT]+[ENTER] to execute the cell."
   ]
  },
  {
   "cell_type": "code",
   "execution_count": null,
   "metadata": {
    "vscode": {
     "languageId": "javascript"
    }
   },
   "outputs": [],
   "source": [
    "print(\"hello\")"
   ]
  },
  {
   "cell_type": "markdown",
   "metadata": {},
   "source": [
    "## 1. Test the Local Large Language Model with Ollama"
   ]
  },
  {
   "cell_type": "markdown",
   "metadata": {},
   "source": [
    "Let's see how the local large language model is working and the duration time of the prompt execution."
   ]
  },
  {
   "cell_type": "code",
   "execution_count": null,
   "metadata": {
    "vscode": {
     "languageId": "javascript"
    }
   },
   "outputs": [],
   "source": []
  },
  {
   "cell_type": "markdown",
   "metadata": {},
   "source": [
    "## 2. Create Your First AI Agent with `smolagents`"
   ]
  },
  {
   "cell_type": "markdown",
   "metadata": {},
   "source": [
    "Let's start writing our first AI agent in this framework and learn more about its components."
   ]
  },
  {
   "cell_type": "code",
   "execution_count": null,
   "metadata": {
    "vscode": {
     "languageId": "javascript"
    }
   },
   "outputs": [],
   "source": []
  },
  {
   "cell_type": "markdown",
   "metadata": {},
   "source": [
    "## 3. Important Building Blocks for AI Agents"
   ]
  },
  {
   "cell_type": "markdown",
   "metadata": {},
   "source": [
    "In order to understand AI agents, it is important to know these building blocks of AI agentic frameworks:\n",
    "\n",
    "* Understanding the Agentic Behavior using OpenTelemetry\n",
    "* Function/Tool Calling\n",
    "* Structured Output"
   ]
  },
  {
   "cell_type": "markdown",
   "metadata": {},
   "source": [
    "### 3.1 Using OpenTelemetry for Understanding & Debugging"
   ]
  },
  {
   "cell_type": "markdown",
   "metadata": {},
   "source": [
    "After starting the OpenTelemetry server, you can access it at [http://0.0.0.0:6006/projects/](http://0.0.0.0:6006/projects/) and run this code below. The next time you are executing a smolagent, you will see data in the dashboard."
   ]
  },
  {
   "cell_type": "code",
   "execution_count": null,
   "metadata": {
    "vscode": {
     "languageId": "javascript"
    }
   },
   "outputs": [],
   "source": []
  },
  {
   "cell_type": "markdown",
   "metadata": {},
   "source": [
    "### 3.2. Function/Tool Calling with LLMs"
   ]
  },
  {
   "cell_type": "markdown",
   "metadata": {},
   "source": [
    "Predefined functions:"
   ]
  },
  {
   "cell_type": "code",
   "execution_count": null,
   "metadata": {
    "vscode": {
     "languageId": "javascript"
    }
   },
   "outputs": [],
   "source": [
    "from smolagents import tool\n",
    "\n",
    "@tool\n",
    "def get_username_password_for_device(ip_address:str) -> str:\n",
    "    \"\"\"\n",
    "    Returns the username and password separated by a comma for the given ip address or hostname.\n",
    "\n",
    "    Args:\n",
    "        ip_address: The IP address or hostname of the device\n",
    "\n",
    "    Returns:\n",
    "        str: A string with the username and password separated by a comma.\n",
    "    \"\"\"\n",
    "    import json\n",
    "    \n",
    "    with open(\"hosts.json\", 'r') as file:\n",
    "        devices = json.load(file)\n",
    "        return f\"{devices[ip_address]['username']},{devices[ip_address]['password']}\"\n",
    "\n",
    "@tool\n",
    "def show_ip_route(host:str,username:str,password:str,device_type:str = \"cisco_ios\",) -> str:\n",
    "    \"\"\"\n",
    "    Return the routing table of the device. Executes the command 'show ip route'.\n",
    "\n",
    "    Args:\n",
    "        host: The IP address or hostname of the device\n",
    "        username: The username for the device\n",
    "        password: The password for the device\n",
    "        device_type: The device type for the device\n",
    "\n",
    "    Returns:\n",
    "        str: The routing table of the device.\n",
    "    \"\"\"\n",
    "    from netmiko import ConnectHandler    \n",
    "                                                                                                          \n",
    "    device = {                                                                                                                                                                 \n",
    "        'ip': host,                                                                                                                                                   \n",
    "        'username': username,                                                                                                                                                  \n",
    "        'password': password,                                                                                                                                                  \n",
    "        'device_type': device_type                                                                                        \n",
    "    }                                                                                                                                                                          \n",
    "                                                                                                                                                                                \n",
    "    # Establish connection to the device                                                                                                                                       \n",
    "    connection = ConnectHandler(**device)                                                                                                                                                                                                                                                                                     \n",
    "                                                                                                                                                                                \n",
    "    # Execute command to retrieve running configuration                                                                                                                        \n",
    "    running_config_output = connection.send_command('show ip route')                                                                                                     \n",
    "                                                                                                                                                                                \n",
    "    return running_config_output"
   ]
  },
  {
   "cell_type": "markdown",
   "metadata": {},
   "source": [
    "Now, let's add these functions to the CodeAgent and authorize to import these Python libraries in the sandboxed Python environment of the agent. Let's run this example with the following prompt."
   ]
  },
  {
   "cell_type": "code",
   "execution_count": null,
   "metadata": {
    "vscode": {
     "languageId": "javascript"
    }
   },
   "outputs": [],
   "source": []
  },
  {
   "cell_type": "markdown",
   "metadata": {},
   "source": [
    "### 3.3 Structured Output with LLMs"
   ]
  },
  {
   "cell_type": "code",
   "execution_count": null,
   "metadata": {
    "vscode": {
     "languageId": "javascript"
    }
   },
   "outputs": [],
   "source": [
    "def run_ios_show_command_on_device_trusted(show_command:str,host:str) -> str:\n",
    "    \"\"\"\n",
    "    Returns the output of the provided show command from the device with the given host, username, password, and device type.\n",
    "\n",
    "    Args:\n",
    "        show_command: The show command to run on the device\n",
    "        host: The IP address or hostname of the device\n",
    "        device_type: The device type for the device\n",
    "\n",
    "    Returns:\n",
    "        str: Output of the provided show command\n",
    "    \"\"\"\n",
    "    print(\"Running show command on device...\")\n",
    "\n",
    "    from netmiko import ConnectHandler\n",
    "    import json\n",
    "\n",
    "    with open(\"hosts.json\", 'r') as file:\n",
    "        devices = json.load(file)\n",
    "        username = devices[host][\"username\"]\n",
    "        password = devices[host][\"password\"]\n",
    "                                                          \n",
    "    device = {                                                                                                                                                                 \n",
    "        'ip': host,                                                                                                                                                   \n",
    "        'username': username,                                                                                                                                                  \n",
    "        'password': password,                                                                                                                                                  \n",
    "        'device_type': \"cisco_ios\",                                                                                        \n",
    "    }                                                                                                                                                                          \n",
    "                                                                                                                                                                                \n",
    "    # Establish connection to the device                                                                                                                                       \n",
    "    connection = ConnectHandler(**device)\n",
    "\n",
    "    if show_command.startswith(\"show\") or show_command.startswith(\"sh\"):\n",
    "        # Execute command to retrieve running configuration                                                                                                                        \n",
    "        running_config_output = connection.send_command(show_command)\n",
    "        print(running_config_output)\n",
    "        return running_config_output\n",
    "    else:\n",
    "        return \"Error! You are only allowed to run show commands. Try again and use a show command.\""
   ]
  },
  {
   "cell_type": "markdown",
   "metadata": {},
   "source": [
    "Our pydantic output model:"
   ]
  },
  {
   "cell_type": "code",
   "execution_count": null,
   "metadata": {
    "vscode": {
     "languageId": "javascript"
    }
   },
   "outputs": [],
   "source": []
  },
  {
   "cell_type": "markdown",
   "metadata": {},
   "source": [
    "Then let's define our prompts: system + user prompt and tell the LLM how to structure the output and run the query:"
   ]
  },
  {
   "cell_type": "code",
   "execution_count": null,
   "metadata": {},
   "outputs": [],
   "source": [
    "from ollama import chat\n",
    "\n",
    "response = chat(\n",
    "    messages=[\n",
    "        {\n",
    "        'role': 'system',\n",
    "        'content': 'You are a helpful networking assistant.',\n",
    "    },\n",
    "    {\n",
    "        'role': 'user',\n",
    "        'content': f'''What can you say about my Cisco switch?\n",
    "                    Here is the output of the \"show version\" command:\n",
    "                    {run_ios_show_command_on_device_trusted(ios_show_command,device_host)}''',\n",
    "    }\n",
    "    ],\n",
    "    model='llama3.1',\n",
    "    format=Cat8000.model_json_schema(),\n",
    ")\n",
    "\n",
    "cat8000_instance = Cat8000.model_validate_json(response.message.content)"
   ]
  },
  {
   "cell_type": "markdown",
   "metadata": {},
   "source": [
    "Output:"
   ]
  },
  {
   "cell_type": "code",
   "execution_count": null,
   "metadata": {},
   "outputs": [],
   "source": []
  },
  {
   "cell_type": "markdown",
   "metadata": {},
   "source": [
    "# Next steps"
   ]
  },
  {
   "cell_type": "markdown",
   "metadata": {},
   "source": [
    "Check out all the other use-cases! Run them and go through the code to understand the concept and how you can apply them to your environment and use-cases."
   ]
  }
 ],
 "metadata": {
  "kernelspec": {
   "display_name": "Python 3 (ipykernel)",
   "language": "python",
   "name": "python3"
  },
  "language_info": {
   "codemirror_mode": {
    "name": "ipython",
    "version": 3
   },
   "file_extension": ".py",
   "mimetype": "text/x-python",
   "name": "python",
   "nbconvert_exporter": "python",
   "pygments_lexer": "ipython3",
   "version": "3.12.8"
  }
 },
 "nbformat": 4,
 "nbformat_minor": 4
}
